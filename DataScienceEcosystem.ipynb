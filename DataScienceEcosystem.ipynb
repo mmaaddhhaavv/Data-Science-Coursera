{
 "cells": [
  {
   "cell_type": "markdown",
   "id": "6b553b38-de68-420e-9816-3aa74b8e804f",
   "metadata": {},
   "source": [
    "# Data Science Tools and Ecosystem\n"
   ]
  },
  {
   "cell_type": "markdown",
   "id": "694673e0-423d-4984-9d39-6099ae0a66af",
   "metadata": {},
   "source": [
    "In this notebook, Data Science Tools and Ecosystem are summarized"
   ]
  },
  {
   "cell_type": "markdown",
   "id": "e24acd3b-3cde-49ff-bcd4-d5982ef4f8f1",
   "metadata": {},
   "source": [
    "## Data Science Languages  \n",
    "- Python  \n",
    "- R  \n",
    "- SQL  \n",
    "- Java  \n",
    "- Scala\n"
   ]
  },
  {
   "cell_type": "markdown",
   "id": "604f969b-db8f-427b-8d96-cade4f2cfde0",
   "metadata": {},
   "source": [
    "## Data Science Libraries  \n",
    "- NumPy  \n",
    "- Pandas  \n",
    "- Matplotlib  \n",
    "- Seaborn  \n",
    "- Scikit-learn  \n",
    "- TensorFlow"
   ]
  },
  {
   "cell_type": "markdown",
   "id": "a1e9eeeb-5fbd-4929-8f95-8548e149650f",
   "metadata": {},
   "source": [
    "## Data Science Tools  \n",
    "\n",
    "| Tool             | Description                        |\n",
    "|------------------|------------------------------------|\n",
    "| Jupyter Notebook | Interactive coding and documentation |\n",
    "| RStudio          | IDE for R programming               |\n",
    "| Apache Spark     | Big data processing                 |\n",
    "| TensorFlow       | Machine learning and AI            |\n",
    "| RapidMiner       | No-code data science platform      |"
   ]
  },
  {
   "cell_type": "markdown",
   "id": "ca7fd751-e708-4abb-a9e9-019f9c403b40",
   "metadata": {},
   "source": [
    "## Arithmetic Expressions  \n",
    "Below we demonstrate basic arithmetic operations using Python."
   ]
  },
  {
   "cell_type": "code",
   "execution_count": 3,
   "id": "0d16a5e0-1f95-4d2a-b489-1387ddc04d60",
   "metadata": {},
   "outputs": [
    {
     "name": "stdout",
     "output_type": "stream",
     "text": [
      "Result: 23\n"
     ]
    }
   ],
   "source": [
    "# Multiply and add numbers\n",
    "result = (5 * 3) + 8\n",
    "print(\"Result:\", result)"
   ]
  },
  {
   "cell_type": "code",
   "execution_count": 4,
   "id": "f6f8f662-72dc-486b-bb6e-51fc4d282032",
   "metadata": {},
   "outputs": [
    {
     "name": "stdout",
     "output_type": "stream",
     "text": [
      "Hours: 2.5\n"
     ]
    }
   ],
   "source": [
    "# Convert minutes to hours\n",
    "minutes = 150\n",
    "hours = minutes / 60\n",
    "print(\"Hours:\", hours)"
   ]
  },
  {
   "cell_type": "markdown",
   "id": "05eaa815-ff89-4108-bdf7-6b26abff1b16",
   "metadata": {},
   "source": [
    "## Objectives  \n",
    "- Use Markdown syntax effectively  \n",
    "- Perform basic arithmetic operations  \n",
    "- Convert time units with Python  \n",
    "- Demonstrate proficiency using Jupyterlite  \n",
    "- Share notebook publicly via GitHub"
   ]
  },
  {
   "cell_type": "markdown",
   "id": "206587cb-5c1b-491b-972b-e5b0d94312ab",
   "metadata": {},
   "source": [
    "## Author  \n",
    "Madhav"
   ]
  },
  {
   "cell_type": "markdown",
   "id": "fa63b007-65d4-4bb3-807e-637e6ca6bedd",
   "metadata": {},
   "source": [
    "git-link --https://github.com/mmaaddhhaavv/Data-Science-Coursera"
   ]
  }
 ],
 "metadata": {
  "kernelspec": {
   "display_name": "Python 3 (ipykernel)",
   "language": "python",
   "name": "python3"
  },
  "language_info": {
   "codemirror_mode": {
    "name": "ipython",
    "version": 3
   },
   "file_extension": ".py",
   "mimetype": "text/x-python",
   "name": "python",
   "nbconvert_exporter": "python",
   "pygments_lexer": "ipython3",
   "version": "3.13.5"
  }
 },
 "nbformat": 4,
 "nbformat_minor": 5
}
